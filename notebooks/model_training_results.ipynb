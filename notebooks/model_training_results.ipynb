{
 "cells": [
  {
   "cell_type": "markdown",
   "id": "5b779f33",
   "metadata": {},
   "source": [
    "## ESTE É O NOTEBOOK COM OS RESULTADOS COMPILADOS, PORÉM OS CÓDIGOS SÃO SÓ DO CORPUS TEXT COMPLETO, O NOTEBOOK MODEL_TRAINING_5W2H POSSUI O TREINAMENTO NA OUTRA METODOLOGIA DE ANOTAÇÃO\n",
    "\n",
    "\n",
    "Para diversificarmos a abordagem e demonstrar a flexibilidade da base GolpeBR, usamos duas abordagens para o treinamento com o dataset: Em uma abordagem usamos o campo \"text\", onde temos a descrição completa do ocorrido, da forma com que foi extraído das fontes. A segunda abordagem faz a união dos campos gerados pela metodologia 5W2H, resultando em um resumo mais objetivo e tratado do relato ocorrido.\n",
    "\n",
    "Os algoritmos selecionados para treinamento do modelo foram: RandomForestClassifier, LogisticRegression e SVC (Support Vector Machine). \n",
    "O ajuste de hiperparâmetro foi realizado utilizando um algoritmo de busca de melhor hiperparâmetro, o GridSearchCV. Neste algoritmo, especifica-se alguns valores de parâmetros para formarem um \"hipercampo\" de busca. Então, uma versão para cada combinação de parâmetro é treinada, avaliada utilizando o método de avaliação cruzada com k=5, e a melhor combinação (aquela combinação de hiperparâmetros que fornecem o melhor valor da métrica selecionada) é salva automaticamente na variável alvo. \n",
    "\n",
    "Para avaliação, utilizamos a métrica de precisão, para entender como o modelo consegue utilizar os relatos dos textos para identificar com precisão um verdadeiro positivo, ou falso positivo. Ainda, utilizamos uma matriz de confusão para entender como o modelo se comporta, de forma analítica, nestas classificações, e quantos falsos positivos ou falsos negativos são gerados após as predições.\n",
    "\n",
    "Os passos seguidos para o treinamento foram: Carregamento em memória do dataset GolpeBR, verificação da quantidade de observações na variável dependente 'cibercrime bancário', filtrando somente por registros que possuam o valor Cibercrime Bancário ou Outros cibercrimes na variável dependente. Então, transformamos os valores para númericos 1 (para Cibercrime bancário) e 0 (para Outros cibercrimes), para melhor comportamento do algoritmo. Então, vetorizamos o texto para predição usando o algoritmo TfidfVectorizer. \n",
    "\n",
    "O TfidfVectorizer transforma textos em vetores numéricos com base na frequência das palavras, ajustando essa frequência pelo número de documentos em que cada palavra aparece. Ele calcula o TF-IDF (Term Frequency–Inverse Document Frequency), que valoriza palavras relevantes em um documento, mas menos comuns no conjunto total. Isso ajuda a reduzir o peso de palavras muito frequentes e pouco informativas (como \"e\", \"o\", \"de\") e destacar termos mais discriminativos.\n",
    "\n",
    "Então, criamos duas variáveis: Uma para armazenar as combinações de hiperparâmetros para o GridSearchCV, e outra para execução do vetorizador e treinamento do modelo de forma sequêncial (chamado também de pipeline). Separamos a base em treinamento e testes, com 30% dos registros para teste e 70% para treinamento, setamos o GridSearchCV com a métrica de precisão, dobras de validação cruzada com k=5 e inserimos a variável que referencial o modelo e os hiperparâmetors. Por fim, treinamos o modelo chamando o método fit, e realizamos a predição na base de testes usando o método predict, então calculamos as métricas junto da precisão (métrica principal) e imprimimos a matriz de confusão com os resultados de forma analítica.\n",
    "\n",
    "### Resultados\n",
    "Apesar do pipeline simples, com tratamentos básicos apenas para vetorizar os textos passados, os modelos conseguiram identificar padrões entre os textos dos crimes e classificá-los de acordo. Os modelos treinados no sistema 5W2H apresentaram um melhor desempenho, com um destaque para o SVM. Os modelos treinados no corpus da coluna \"text\" careceram de mais transformações e tratamento do texto, como remoção de stop-words e outros processamentos na linguagem, oferecendo uma oportunidade de futuros trabalhos envolvendo o tratamento.\n",
    "\n",
    "### Referências\n",
    "https://www.researchgate.net/publication/332268831_An_Analysis_of_the_Most_Used_Machine_Learning_Algorithms_for_Online_Fraud_Detection  (os modelos saíram daqui, como principal artigo)\n",
    "\n",
    "https://wseas.com/journals/communications/2015/a305704-607.pdf\n",
    "\n",
    "https://www.researchgate.net/publication/376516430_A_Review_of_Credit_Card_Fraud_Detection_using_Machine_Learning_Algorithms"
   ]
  }
 ],
 "metadata": {
  "language_info": {
   "name": "python"
  }
 },
 "nbformat": 4,
 "nbformat_minor": 5
}
