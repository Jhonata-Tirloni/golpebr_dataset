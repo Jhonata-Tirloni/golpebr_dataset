{
 "cells": [
  {
   "cell_type": "code",
   "execution_count": 2,
   "id": "feeabd87",
   "metadata": {},
   "outputs": [],
   "source": [
    "import pandas as pd"
   ]
  },
  {
   "cell_type": "code",
   "execution_count": null,
   "id": "e4f1138a",
   "metadata": {},
   "outputs": [],
   "source": [
    "df = pd.read_csv(r'/Users/jhonatatirloni/Desktop/g05-ia-seguranca-digital/src/data/processed/df_text_news.csv',\n",
    "            sep='|')\n",
    "df = df.drop_duplicates(['text'])\n",
    "df = df.drop('index', axis=1)\n",
    "df.to_csv(r'/Users/jhonatatirloni/Desktop/g05-ia-seguranca-digital/src/data/processed/df_list_data_news.csv',\n",
    "          sep='|')"
   ]
  },
  {
   "cell_type": "code",
   "execution_count": 4,
   "id": "e3749cd9",
   "metadata": {},
   "outputs": [],
   "source": [
    "df_reddit = pd.read_csv('/Users/jhonatatirloni/Desktop/g05-ia-seguranca-digital/src/data/processed/bronze/df_list_data_reddit.csv', sep=';')"
   ]
  },
  {
   "cell_type": "code",
   "execution_count": 9,
   "id": "0b51ae4d",
   "metadata": {},
   "outputs": [],
   "source": [
    "df_reddit = df_reddit.drop_duplicates(subset=['text'])"
   ]
  },
  {
   "cell_type": "code",
   "execution_count": 14,
   "id": "83b768a9",
   "metadata": {},
   "outputs": [],
   "source": [
    "df_reddit = df_reddit.drop(['index'], axis=1)"
   ]
  },
  {
   "cell_type": "code",
   "execution_count": 15,
   "id": "c9f8bbd5",
   "metadata": {},
   "outputs": [],
   "source": [
    "df_reddit.to_csv('/Users/jhonatatirloni/Desktop/g05-ia-seguranca-digital/src/data/processed/bronze/df_list_data_reddit_tratado.csv', sep='|')"
   ]
  },
  {
   "cell_type": "code",
   "execution_count": 14,
   "id": "f4c28475",
   "metadata": {},
   "outputs": [],
   "source": [
    "# Google news\n",
    "df_classificado = pd.read_csv(r'C:\\Users\\jhont\\Desktop\\g05-ia-seguranca-digital\\src\\data\\processed\\silver\\df_google_news_clf.csv', sep=';')\n",
    "df_textos = pd.read_csv(r'C:\\Users\\jhont\\Desktop\\g05-ia-seguranca-digital\\src\\data\\processed\\bronze\\extra_text.csv', sep='|')"
   ]
  },
  {
   "cell_type": "code",
   "execution_count": 15,
   "id": "5e87a817",
   "metadata": {},
   "outputs": [],
   "source": [
    "df_textos = df_textos.drop_duplicates(['text'])"
   ]
  },
  {
   "cell_type": "code",
   "execution_count": 16,
   "id": "64f74330",
   "metadata": {},
   "outputs": [],
   "source": [
    "df_concat = pd.merge(left=df_textos,\n",
    "                     right=df_classificado,\n",
    "                     left_on='index',\n",
    "                     right_on='index',\n",
    "                     how='inner')"
   ]
  },
  {
   "cell_type": "code",
   "execution_count": 17,
   "id": "d7bd43f9",
   "metadata": {},
   "outputs": [],
   "source": [
    "df_concat = df_concat.loc[df_concat['flg_crime']=='S']"
   ]
  },
  {
   "cell_type": "code",
   "execution_count": 18,
   "id": "df0f9c8d",
   "metadata": {},
   "outputs": [
    {
     "data": {
      "text/html": [
       "<div>\n",
       "<style scoped>\n",
       "    .dataframe tbody tr th:only-of-type {\n",
       "        vertical-align: middle;\n",
       "    }\n",
       "\n",
       "    .dataframe tbody tr th {\n",
       "        vertical-align: top;\n",
       "    }\n",
       "\n",
       "    .dataframe thead th {\n",
       "        text-align: right;\n",
       "    }\n",
       "</style>\n",
       "<table border=\"1\" class=\"dataframe\">\n",
       "  <thead>\n",
       "    <tr style=\"text-align: right;\">\n",
       "      <th></th>\n",
       "      <th>index</th>\n",
       "      <th>text</th>\n",
       "      <th>flg_crime</th>\n",
       "      <th>cat_crime</th>\n",
       "    </tr>\n",
       "  </thead>\n",
       "  <tbody>\n",
       "    <tr>\n",
       "      <th>0</th>\n",
       "      <td>0</td>\n",
       "      <td>📲 Receba no WhatsApp notícias da região de Pir...</td>\n",
       "      <td>S</td>\n",
       "      <td>Fraude</td>\n",
       "    </tr>\n",
       "    <tr>\n",
       "      <th>1</th>\n",
       "      <td>1</td>\n",
       "      <td>Seu Nelson, de 89 anos, foi vítima do golpe em...</td>\n",
       "      <td>S</td>\n",
       "      <td>Fraude</td>\n",
       "    </tr>\n",
       "    <tr>\n",
       "      <th>2</th>\n",
       "      <td>2</td>\n",
       "      <td>De acordo com delegados e investigadores das t...</td>\n",
       "      <td>S</td>\n",
       "      <td>Fraude</td>\n",
       "    </tr>\n",
       "    <tr>\n",
       "      <th>3</th>\n",
       "      <td>3</td>\n",
       "      <td>Compartilhe esta notícia no WhatsApp\\nComparti...</td>\n",
       "      <td>S</td>\n",
       "      <td>Fraude</td>\n",
       "    </tr>\n",
       "    <tr>\n",
       "      <th>4</th>\n",
       "      <td>4</td>\n",
       "      <td>A forma como os criminosos agiram foi registra...</td>\n",
       "      <td>S</td>\n",
       "      <td>Fraude</td>\n",
       "    </tr>\n",
       "    <tr>\n",
       "      <th>...</th>\n",
       "      <td>...</td>\n",
       "      <td>...</td>\n",
       "      <td>...</td>\n",
       "      <td>...</td>\n",
       "    </tr>\n",
       "    <tr>\n",
       "      <th>163</th>\n",
       "      <td>167</td>\n",
       "      <td>ouvir notícia\\n0:00\\n1.0x\\nAs brasileiras Jean...</td>\n",
       "      <td>S</td>\n",
       "      <td>Outros</td>\n",
       "    </tr>\n",
       "    <tr>\n",
       "      <th>164</th>\n",
       "      <td>168</td>\n",
       "      <td>ouvir notícia\\n0:00\\n1.0x\\nO Enjoei, site de c...</td>\n",
       "      <td>S</td>\n",
       "      <td>Fraude</td>\n",
       "    </tr>\n",
       "    <tr>\n",
       "      <th>165</th>\n",
       "      <td>169</td>\n",
       "      <td>ouvir notícia\\n0:00\\n1.0x\\nUm casal de empresá...</td>\n",
       "      <td>S</td>\n",
       "      <td>Fraude</td>\n",
       "    </tr>\n",
       "    <tr>\n",
       "      <th>166</th>\n",
       "      <td>170</td>\n",
       "      <td>ouvir notícia\\n0:00\\n1.0x\\nJá se tornaram comu...</td>\n",
       "      <td>S</td>\n",
       "      <td>Golpe bancário</td>\n",
       "    </tr>\n",
       "    <tr>\n",
       "      <th>167</th>\n",
       "      <td>171</td>\n",
       "      <td>ouvir notícia\\n0:00\\n1.0x\\nUm casal foi preso ...</td>\n",
       "      <td>S</td>\n",
       "      <td>Fraude</td>\n",
       "    </tr>\n",
       "  </tbody>\n",
       "</table>\n",
       "<p>166 rows × 4 columns</p>\n",
       "</div>"
      ],
      "text/plain": [
       "     index                                               text flg_crime  \\\n",
       "0        0  📲 Receba no WhatsApp notícias da região de Pir...         S   \n",
       "1        1  Seu Nelson, de 89 anos, foi vítima do golpe em...         S   \n",
       "2        2  De acordo com delegados e investigadores das t...         S   \n",
       "3        3  Compartilhe esta notícia no WhatsApp\\nComparti...         S   \n",
       "4        4  A forma como os criminosos agiram foi registra...         S   \n",
       "..     ...                                                ...       ...   \n",
       "163    167  ouvir notícia\\n0:00\\n1.0x\\nAs brasileiras Jean...         S   \n",
       "164    168  ouvir notícia\\n0:00\\n1.0x\\nO Enjoei, site de c...         S   \n",
       "165    169  ouvir notícia\\n0:00\\n1.0x\\nUm casal de empresá...         S   \n",
       "166    170  ouvir notícia\\n0:00\\n1.0x\\nJá se tornaram comu...         S   \n",
       "167    171  ouvir notícia\\n0:00\\n1.0x\\nUm casal foi preso ...         S   \n",
       "\n",
       "          cat_crime  \n",
       "0            Fraude  \n",
       "1            Fraude  \n",
       "2            Fraude  \n",
       "3            Fraude  \n",
       "4            Fraude  \n",
       "..              ...  \n",
       "163          Outros  \n",
       "164          Fraude  \n",
       "165          Fraude  \n",
       "166  Golpe bancário  \n",
       "167          Fraude  \n",
       "\n",
       "[166 rows x 4 columns]"
      ]
     },
     "execution_count": 18,
     "metadata": {},
     "output_type": "execute_result"
    }
   ],
   "source": [
    "df_concat"
   ]
  },
  {
   "cell_type": "code",
   "execution_count": 19,
   "id": "e6761c5f",
   "metadata": {},
   "outputs": [],
   "source": [
    "df_concat.to_csv(r'C:\\Users\\jhont\\Desktop\\g05-ia-seguranca-digital\\src\\data\\processed\\gold\\df_google_news_ccllff.csv', sep='|')"
   ]
  },
  {
   "cell_type": "code",
   "execution_count": 4,
   "id": "5324c265",
   "metadata": {},
   "outputs": [
    {
     "data": {
      "text/plain": [
       "0     Um levantamento listou oscinco malwares softwa...\n",
       "1     O Conselho Nacional de Combate à Pirataria e D...\n",
       "2     A Polícia Civil de Rondônia deflagrou na manhã...\n",
       "3     Um estudo realizado pela SaferNet  organização...\n",
       "4     Um homem foi preso por tráfico de drogas  nest...\n",
       "5     Ela aparentava ser uma mulher bonita e  na men...\n",
       "6     O Amazonas registrou 7.254 casos decrimes cibe...\n",
       "7     Uma operação da Polícia Civil do Pará  com apo...\n",
       "8     As autoridadesaustralianasestão investigando a...\n",
       "9     A Polícia Civil de Minas Gerais deflagrou nest...\n",
       "10    Um levantamento listou oscinco malwares softwa...\n",
       "Name: text, dtype: object"
      ]
     },
     "execution_count": 4,
     "metadata": {},
     "output_type": "execute_result"
    }
   ],
   "source": [
    "pd.read_csv(r\"C:\\Users\\jhont\\Desktop\\g05-ia-seguranca-digital\\src\\data\\processed\\bronze\\df_text_news_short.csv\", sep=\"|\")['text']"
   ]
  }
 ],
 "metadata": {
  "kernelspec": {
   "display_name": "Python 3",
   "language": "python",
   "name": "python3"
  },
  "language_info": {
   "codemirror_mode": {
    "name": "ipython",
    "version": 3
   },
   "file_extension": ".py",
   "mimetype": "text/x-python",
   "name": "python",
   "nbconvert_exporter": "python",
   "pygments_lexer": "ipython3",
   "version": "3.13.2"
  }
 },
 "nbformat": 4,
 "nbformat_minor": 5
}
