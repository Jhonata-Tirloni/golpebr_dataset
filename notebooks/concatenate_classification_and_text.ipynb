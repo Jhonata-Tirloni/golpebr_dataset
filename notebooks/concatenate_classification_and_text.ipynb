{
 "cells": [
  {
   "cell_type": "code",
   "execution_count": null,
   "id": "423cbc1a",
   "metadata": {},
   "outputs": [],
   "source": [
    "import pandas as pd\n",
    "import numpy as np\n",
    "import pandas as pd"
   ]
  },
  {
   "cell_type": "code",
   "execution_count": 5,
   "id": "4f25677a",
   "metadata": {},
   "outputs": [],
   "source": [
    "df_original = pd.read_csv(r'/Users/jhonatatirloni/Desktop/g05-ia-seguranca-digital/src/data/processed/bronze/df_list_data_news.csv', sep='|')\n",
    "df_categorized = pd.read_csv(r'/Users/jhonatatirloni/Desktop/g05-ia-seguranca-digital/src/data/processed/silver/df_categorized_googlenews.csv',\n",
    "                             sep=';')\n",
    "\n",
    "df_orginal_reddit = pd.read_csv(r'/Users/jhonatatirloni/Desktop/g05-ia-seguranca-digital/src/data/processed/bronze/df_list_data_reddit_tratado.csv', sep='|')\n",
    "df_categorized_reddit = pd.read_csv(r'/Users/jhonatatirloni/Desktop/g05-ia-seguranca-digital/src/data/processed/silver/df_categorized_reddit.csv', sep=';')\n"
   ]
  },
  {
   "cell_type": "markdown",
   "id": "f02a752f",
   "metadata": {},
   "source": [
    "Data cleaning"
   ]
  },
  {
   "cell_type": "code",
   "execution_count": 6,
   "id": "397d62a7",
   "metadata": {},
   "outputs": [],
   "source": [
    "class DataCleaning:\n",
    "    def __init__(self):\n",
    "        self = self\n",
    "\n",
    "    def standardize(self, df: pd.DataFrame) -> pd.DataFrame:\n",
    "\n",
    "        df = df.rename(columns={\n",
    "                            '0':'index',\n",
    "                            '1':'flg_crime',\n",
    "                            '2':'cat_crime'\n",
    "                        })\n",
    "        \n",
    "        columns = df.columns\n",
    "\n",
    "        for column in columns:\n",
    "            match column:\n",
    "                case 'flg_crime':\n",
    "                    df[column] = df[column].str.replace(' ', '')\n",
    "                    df[column] = df[column].str.replace('|', 'N')\n",
    "                case 'cat_crime':\n",
    "                    df[column] = df[column].str.strip()\n",
    "                    df[column] = df[column].str.upper()\n",
    "                    df[column] = df[column].str.replace('|', '')\n",
    "                    df[column] = df[column].str.replace('-', '')\n",
    "                    df[column] = df[column].str.replace('|', '')\n",
    "                    df[column] = np.where(df[column].str.contains('CIBERCRIME BANCÁRIO', na=False), df[column].str.extract(r'(CIBERCRIME BANCÁRIO)', expand=False),\n",
    "                                            df[column])\n",
    "                    df[column] = np.where(df[column].str.contains('OUTROS CIBERCRIMES', na=False), df[column].str.extract(r'(OUTROS CIBERCRIMES)', expand=False),\n",
    "                                        df[column])\n",
    "                    df[column] = np.where(df[column] == 'CIBERCRIMES', 'CIBERCRIME BANCÁRIO',\n",
    "                                            np.where(df[column].str.contains('CIBERCRIMES \\\\('), 'OUTROS CIBERCRIMES',\n",
    "                                                    np.where(df[column].str.contains('OUTROS CIBERCIMES'), 'OUTROS CIBERCRIMES', df[column])))\n",
    "                    df[column] = np.where((~df[column].str.contains('CIBERCRIME BANCÁRIO')) & (~df[column].str.contains('OUTROS CIBERCRIMES')), '', df[column])\n",
    "                case 'index':\n",
    "                    df[column] = df[column].astype(str)\n",
    "                    df[column] = df[column].str.replace(\"'\", \"\")\n",
    "                    df[column] = df[column].str.replace(r'[^0-9]', '', regex=True)\n",
    "                    df[column] = df[column].astype(int)\n",
    "        \n",
    "        return df"
   ]
  },
  {
   "cell_type": "code",
   "execution_count": 7,
   "id": "05d577f8",
   "metadata": {},
   "outputs": [],
   "source": [
    "data_cleaner = DataCleaning()"
   ]
  },
  {
   "cell_type": "markdown",
   "id": "e296d70a",
   "metadata": {},
   "source": [
    "# Google News"
   ]
  },
  {
   "cell_type": "code",
   "execution_count": 8,
   "id": "7022220f",
   "metadata": {},
   "outputs": [],
   "source": [
    "teste = data_cleaner.standardize(df=df_categorized)"
   ]
  },
  {
   "cell_type": "code",
   "execution_count": 9,
   "id": "052af5da",
   "metadata": {},
   "outputs": [],
   "source": [
    "df_concat_google_news = pd.merge(left=df_original,\n",
    "                     right=teste,\n",
    "                     left_on='index',\n",
    "                     right_on='index',\n",
    "                     how='inner',\n",
    "                     suffixes=[\"_original\", \"_categorized\"])\\\n",
    "                .drop_duplicates(subset=['text'])"
   ]
  },
  {
   "cell_type": "markdown",
   "id": "e710a5c8",
   "metadata": {},
   "source": [
    "# Reddit"
   ]
  },
  {
   "cell_type": "code",
   "execution_count": 10,
   "id": "94e630ba",
   "metadata": {},
   "outputs": [],
   "source": [
    "teste = data_cleaner.standardize(df=df_categorized_reddit)"
   ]
  },
  {
   "cell_type": "code",
   "execution_count": 11,
   "id": "2253660b",
   "metadata": {},
   "outputs": [],
   "source": [
    "df_concat_reddit = pd.merge(left=df_orginal_reddit,\n",
    "                     right=teste,\n",
    "                     left_on='index',\n",
    "                     right_on='index',\n",
    "                     how='inner',\n",
    "                     suffixes=[\"_original\", \"_categorized\"])\\\n",
    "                .drop_duplicates(subset=['text'])"
   ]
  },
  {
   "cell_type": "markdown",
   "id": "af35b94a",
   "metadata": {},
   "source": [
    "# Validação da quantidade dos dois dataframes"
   ]
  },
  {
   "cell_type": "code",
   "execution_count": 12,
   "id": "4720e821",
   "metadata": {},
   "outputs": [],
   "source": [
    "df_final = pd.concat([df_concat_reddit, df_concat_google_news])"
   ]
  },
  {
   "cell_type": "code",
   "execution_count": 13,
   "id": "2b7dcb52",
   "metadata": {},
   "outputs": [
    {
     "data": {
      "text/plain": [
       "index        559\n",
       "text         559\n",
       "flg_crime    559\n",
       "cat_crime    559\n",
       "dtype: int64"
      ]
     },
     "execution_count": 13,
     "metadata": {},
     "output_type": "execute_result"
    }
   ],
   "source": [
    "df_final.count()"
   ]
  },
  {
   "cell_type": "code",
   "execution_count": 14,
   "id": "b382ca7e",
   "metadata": {},
   "outputs": [],
   "source": [
    "df_final = df_final.drop(['index'], axis=1)"
   ]
  },
  {
   "cell_type": "code",
   "execution_count": 226,
   "id": "2fbad29d",
   "metadata": {},
   "outputs": [],
   "source": [
    "df_final.to_csv(r'C:\\Users\\jhont\\Desktop\\g05-ia-seguranca-digital\\src\\data\\processed\\gold\\df_concat_bigthree.csv', sep='|')"
   ]
  },
  {
   "cell_type": "code",
   "execution_count": 15,
   "id": "22398ccc",
   "metadata": {},
   "outputs": [],
   "source": [
    "df_concat_reddit.to_csv('/Users/jhonatatirloni/Desktop/g05-ia-seguranca-digital/src/data/processed/gold/df_reddit.csv', sep='|')\n",
    "df_concat_google_news.to_csv('/Users/jhonatatirloni/Desktop/g05-ia-seguranca-digital/src/data/processed/gold/df_brave_news.csv', sep='|')\n"
   ]
  },
  {
   "cell_type": "code",
   "execution_count": null,
   "id": "b1b7a6da",
   "metadata": {},
   "outputs": [],
   "source": [
    "# Junta os dados classificados pelo profissional de segurança\n",
    "df_1 = pd.read_csv(r'/Users/jhonatatirloni/Desktop/g05-ia-seguranca-digital/src/data/processed/gold/df_hllm_annotationV2.csv',\n",
    "                    sep='|')\n",
    "\n",
    "df_2 = pd.read_csv(r'/Users/jhonatatirloni/Desktop/g05-ia-seguranca-digital/src/data/processed/gold/df_hllm_annotation2v2.csv',\n",
    "                    sep='|')\n",
    "\n",
    "df_concat = pd.concat([df_1, df_2], axis=0, ignore_index=True)\n",
    "df_concat.rename(columns={'index':'pk'}, inplace=True)"
   ]
  },
  {
   "cell_type": "code",
   "execution_count": 42,
   "id": "3819f1d5",
   "metadata": {},
   "outputs": [],
   "source": [
    "df_concat.to_csv('/Users/jhonatatirloni/Desktop/g05-ia-seguranca-digital/src/data/processed/gold/golpebr_classificacoes.csv', sep='|')"
   ]
  },
  {
   "cell_type": "markdown",
   "id": "60dfe047",
   "metadata": {},
   "source": [
    "-----\n",
    "\n",
    "Ajusta as colunas de cat_crime e flg_crime. As colunas foram inseridas pelo profissional de segurança para maior controle dos registros, mas não serão utilizadas na base final."
   ]
  },
  {
   "cell_type": "code",
   "execution_count": 43,
   "id": "b06d56ab",
   "metadata": {},
   "outputs": [],
   "source": [
    "df_text = pd.read_csv('/Users/jhonatatirloni/Desktop/g05-ia-seguranca-digital/src/data/processed/gold/df_concat_bigthree.csv', sep='|')\n",
    "df_text.drop(['flg_crime', 'cat_crime'], axis=1, inplace=True)"
   ]
  },
  {
   "cell_type": "code",
   "execution_count": 44,
   "id": "032d6bd8",
   "metadata": {},
   "outputs": [],
   "source": [
    "df_classificacoes = pd.read_csv('/Users/jhonatatirloni/Desktop/g05-ia-seguranca-digital/src/data/processed/gold/golpebr_classificacoes.csv', sep='|')"
   ]
  },
  {
   "cell_type": "code",
   "execution_count": 45,
   "id": "fc4d6db4",
   "metadata": {},
   "outputs": [],
   "source": [
    "df_classificacoes['pk'] = df_classificacoes['pk'].astype(int)"
   ]
  },
  {
   "cell_type": "code",
   "execution_count": 48,
   "id": "a7e38b98",
   "metadata": {},
   "outputs": [],
   "source": [
    "df = df_text.merge(\n",
    "    right=df_classificacoes,\n",
    "    left_on='index',\n",
    "    right_on='pk',\n",
    "    how='inner'\n",
    ").drop(['Unnamed: 0'], axis=1)"
   ]
  },
  {
   "cell_type": "code",
   "execution_count": 51,
   "id": "60e9ee9c",
   "metadata": {},
   "outputs": [],
   "source": [
    "df = df.drop_duplicates(subset=['text'])"
   ]
  },
  {
   "cell_type": "code",
   "execution_count": 54,
   "id": "c6c54988",
   "metadata": {},
   "outputs": [],
   "source": [
    "df['cibercrime'] = df['cibercrime'].str.replace(' ', '')"
   ]
  },
  {
   "cell_type": "code",
   "execution_count": null,
   "id": "2fea4ef6",
   "metadata": {},
   "outputs": [],
   "source": [
    "# Aqui exportamos os dados finais, para o dataset final\n",
    "df.to_csv('/Users/jhonatatirloni/Desktop/g05-ia-seguranca-digital/src/data/processed/gold/golpebr_dataset.csv',\n",
    "          sep='|')"
   ]
  }
 ],
 "metadata": {
  "kernelspec": {
   "display_name": "Python 3",
   "language": "python",
   "name": "python3"
  },
  "language_info": {
   "codemirror_mode": {
    "name": "ipython",
    "version": 3
   },
   "file_extension": ".py",
   "mimetype": "text/x-python",
   "name": "python",
   "nbconvert_exporter": "python",
   "pygments_lexer": "ipython3",
   "version": "3.13.2"
  }
 },
 "nbformat": 4,
 "nbformat_minor": 5
}
